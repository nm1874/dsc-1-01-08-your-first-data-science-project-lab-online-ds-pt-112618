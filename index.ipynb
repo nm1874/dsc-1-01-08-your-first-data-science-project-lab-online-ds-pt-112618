{
 "cells": [
  {
   "cell_type": "markdown",
   "metadata": {},
   "source": [
    "## Introduction\n",
    "\n",
    "In this lab, you'll get to do your first real data science project! You'll use Jupyter Notebook to import pre-written libraries, you'll import data into your notebook from a Comma Seperated Values file (a .csv file) and you'll even get to create some plots!\n",
    "\n",
    "Don't worry if it feels like a lot or you get confused on this lab. Our goal here is just to give you a taste of what you'll be able to do as a data scientist, and after this lab, we'll go back and re-introduce all of the concepts that we skimmed over this time through, so by the end of the section you should have a much stronger understanding of this - even if you have no previous experience of programming.\n",
    "\n",
    "Don't worry about running tests for this lab. Just take your time to explore the data and the code."
   ]
  },
  {
   "cell_type": "markdown",
   "metadata": {},
   "source": [
    "## Objectives\n",
    "You will be able to:\n",
    "* Code along (following detailed instructions) to import a csv file and then plot the data"
   ]
  },
  {
   "cell_type": "markdown",
   "metadata": {},
   "source": [
    "## Jupyter Notebook and Running Cells\n",
    "\n",
    "**Welcome to programming!**\n",
    "Juptyer Notebooks (historically called IPythonNotebooks) will be our primary tool when conducting data science. The first thing to know with this is that each cell block [of code] can be run be pressing **shift+enter**. Try running the below code block:"
   ]
  },
  {
   "cell_type": "code",
   "execution_count": 1,
   "metadata": {},
   "outputs": [
    {
     "name": "stdout",
     "output_type": "stream",
     "text": [
      "This is code being run.\n"
     ]
    }
   ],
   "source": [
    "print('This is code being run.')"
   ]
  },
  {
   "cell_type": "markdown",
   "metadata": {},
   "source": [
    "## Importing Packages\n",
    "The next thing we're going to do is load in some python packages that will be part of our toolbox for manipulating and analyzing data. The standard python package for working with data tables is called **pandas**. Below, we import this under the **alias** pd, which is the industry standard. This will give us a shorthand way to access special functions and methods within the package without having to type the longer name pandas. \n",
    "\n",
    "* Again, press **shift+enter** to run the code below"
   ]
  },
  {
   "cell_type": "code",
   "execution_count": 2,
   "metadata": {},
   "outputs": [],
   "source": [
    "import pandas as pd\n",
    "import matplotlib.pyplot as plt\n",
    "%matplotlib inline"
   ]
  },
  {
   "cell_type": "markdown",
   "metadata": {},
   "source": [
    "# Jupyter Notebook Cell Types\n",
    "\n",
    "You might have started to notice that the code blocks have little notes that say **In [ ]:** before you run them, and then are filled with a number after you run them. This is important, as it tells you what order cell blocks were run. (Which can sometimes affect how a program runs.)\n",
    "\n",
    "You may also notice that other cell blocks, such as this one, do not have the **In [ ]:** label as with the code blocks. This is because this cell block is formatted as **Markdown** rather then code. You can see (and change) what type of cell is by clicking the dropdown menu at the top:\n",
    "<img src=\"Jupyter_Notebook_Cell_Type_Dropdown.png\" width=600>"
   ]
  },
  {
   "cell_type": "markdown",
   "metadata": {},
   "source": [
    "# Command Versus Edit Mode\n",
    "\n",
    "You should also start to notice that when you are in a cell writing code (or notes), the cell is highlighted in **green** meaning you are in **edit mode**. \n",
    "\n",
    "Alternatively, if you **press esc**, the cursor will be in **blue** inidicating that you are in **command mode**.\n",
    "\n",
    "### Edit Mode\n",
    "Edit mode is the standard mode for editing cells, whether its writing code or notes.\n",
    "To enter edit mode from command mode simply hit enter, or double click on a cell.\n",
    "\n",
    "### Command Mode\n",
    "In command mode, you can delete cells, add cells, copy cells, paste cells, change cell types, and more. You can also do these tasks in a more cumbersome (and time consuming) manner by using the various headers in the menu bar at top.\n",
    "<img src=\"Jupyter_Menu.png\" width=600>\n",
    "You can also see a full list of shortcuts available in command and edit mode under the help menu.\n",
    "\n",
    "<img src=\"Jupyter_Help_Menu.png\" width=600>"
   ]
  },
  {
   "cell_type": "markdown",
   "metadata": {},
   "source": [
    "# Running Bash Commands\n",
    "\n",
    "We can also run bash commands just as we did before from the terminal directly within iPython notebooks!  \n",
    " (Note: bash commands cannot be mixed with python and must be in their own cell block.)   \n",
    " \n",
    "Try it out!"
   ]
  },
  {
   "cell_type": "code",
   "execution_count": 3,
   "metadata": {},
   "outputs": [
    {
     "data": {
      "text/plain": [
       "'/Users/Nina/Desktop/Flatiron/Section 01/dsc-1-01-08-your-first-data-science-project-lab-online-ds-pt-112618'"
      ]
     },
     "execution_count": 3,
     "metadata": {},
     "output_type": "execute_result"
    }
   ],
   "source": [
    "pwd"
   ]
  },
  {
   "cell_type": "code",
   "execution_count": 4,
   "metadata": {},
   "outputs": [
    {
     "name": "stdout",
     "output_type": "stream",
     "text": [
      "CONTRIBUTING.md\r\n",
      "Jupyter_Help_Menu.png\r\n",
      "Jupyter_Menu.png\r\n",
      "Jupyter_Notebook_Cell_Type_Dropdown.png\r\n",
      "LICENSE.md\r\n",
      "README.md\r\n",
      "docstring.png\r\n",
      "docstring_preview.png\r\n",
      "index.ipynb\r\n",
      "\u001b[34mindex_files\u001b[m\u001b[m/\r\n",
      "\u001b[31mlego_sets.csv\u001b[m\u001b[m*\r\n",
      "pd_methods.png\r\n",
      "pd_read_methods.png\r\n",
      "python_built_in_functions.png\r\n",
      "string-slicing.png\r\n"
     ]
    }
   ],
   "source": [
    "ls"
   ]
  },
  {
   "cell_type": "markdown",
   "metadata": {},
   "source": [
    "## Loading a DataFrame\n",
    "The primary datatype within the pandas package is called a dataframe and is similar to a spreadsheet in excel. Here's a brief example of loading a csv file from your hard drive:"
   ]
  },
  {
   "cell_type": "code",
   "execution_count": 5,
   "metadata": {},
   "outputs": [
    {
     "name": "stdout",
     "output_type": "stream",
     "text": [
      "12261\n"
     ]
    },
    {
     "data": {
      "text/html": [
       "<div>\n",
       "<style scoped>\n",
       "    .dataframe tbody tr th:only-of-type {\n",
       "        vertical-align: middle;\n",
       "    }\n",
       "\n",
       "    .dataframe tbody tr th {\n",
       "        vertical-align: top;\n",
       "    }\n",
       "\n",
       "    .dataframe thead th {\n",
       "        text-align: right;\n",
       "    }\n",
       "</style>\n",
       "<table border=\"1\" class=\"dataframe\">\n",
       "  <thead>\n",
       "    <tr style=\"text-align: right;\">\n",
       "      <th></th>\n",
       "      <th>ages</th>\n",
       "      <th>list_price</th>\n",
       "      <th>num_reviews</th>\n",
       "      <th>piece_count</th>\n",
       "      <th>play_star_rating</th>\n",
       "      <th>prod_desc</th>\n",
       "      <th>prod_id</th>\n",
       "      <th>prod_long_desc</th>\n",
       "      <th>review_difficulty</th>\n",
       "      <th>set_name</th>\n",
       "      <th>star_rating</th>\n",
       "      <th>theme_name</th>\n",
       "      <th>val_star_rating</th>\n",
       "      <th>country</th>\n",
       "    </tr>\n",
       "  </thead>\n",
       "  <tbody>\n",
       "    <tr>\n",
       "      <th>0</th>\n",
       "      <td>6-12</td>\n",
       "      <td>29.99</td>\n",
       "      <td>2.0</td>\n",
       "      <td>277.0</td>\n",
       "      <td>4.0</td>\n",
       "      <td>Catapult into action and take back the eggs fr...</td>\n",
       "      <td>75823.0</td>\n",
       "      <td>Use the staircase catapult to launch Red into ...</td>\n",
       "      <td>Average</td>\n",
       "      <td>Bird Island Egg Heist</td>\n",
       "      <td>4.5</td>\n",
       "      <td>Angry Birds™</td>\n",
       "      <td>4.0</td>\n",
       "      <td>US</td>\n",
       "    </tr>\n",
       "    <tr>\n",
       "      <th>1</th>\n",
       "      <td>6-12</td>\n",
       "      <td>19.99</td>\n",
       "      <td>2.0</td>\n",
       "      <td>168.0</td>\n",
       "      <td>4.0</td>\n",
       "      <td>Launch a flying attack and rescue the eggs fro...</td>\n",
       "      <td>75822.0</td>\n",
       "      <td>Pilot Pig has taken off from Bird Island with ...</td>\n",
       "      <td>Easy</td>\n",
       "      <td>Piggy Plane Attack</td>\n",
       "      <td>5.0</td>\n",
       "      <td>Angry Birds™</td>\n",
       "      <td>4.0</td>\n",
       "      <td>US</td>\n",
       "    </tr>\n",
       "    <tr>\n",
       "      <th>2</th>\n",
       "      <td>6-12</td>\n",
       "      <td>12.99</td>\n",
       "      <td>11.0</td>\n",
       "      <td>74.0</td>\n",
       "      <td>4.3</td>\n",
       "      <td>Chase the piggy with lightning-fast Chuck and ...</td>\n",
       "      <td>75821.0</td>\n",
       "      <td>Pitch speedy bird Chuck against the Piggy Car....</td>\n",
       "      <td>Easy</td>\n",
       "      <td>Piggy Car Escape</td>\n",
       "      <td>4.3</td>\n",
       "      <td>Angry Birds™</td>\n",
       "      <td>4.1</td>\n",
       "      <td>US</td>\n",
       "    </tr>\n",
       "    <tr>\n",
       "      <th>3</th>\n",
       "      <td>12+</td>\n",
       "      <td>99.99</td>\n",
       "      <td>23.0</td>\n",
       "      <td>1032.0</td>\n",
       "      <td>3.6</td>\n",
       "      <td>Explore the architecture of the United States ...</td>\n",
       "      <td>21030.0</td>\n",
       "      <td>Discover the architectural secrets of the icon...</td>\n",
       "      <td>Average</td>\n",
       "      <td>United States Capitol Building</td>\n",
       "      <td>4.6</td>\n",
       "      <td>Architecture</td>\n",
       "      <td>4.3</td>\n",
       "      <td>US</td>\n",
       "    </tr>\n",
       "    <tr>\n",
       "      <th>4</th>\n",
       "      <td>12+</td>\n",
       "      <td>79.99</td>\n",
       "      <td>14.0</td>\n",
       "      <td>744.0</td>\n",
       "      <td>3.2</td>\n",
       "      <td>Recreate the Solomon R. Guggenheim Museum® wit...</td>\n",
       "      <td>21035.0</td>\n",
       "      <td>Discover the architectural secrets of Frank Ll...</td>\n",
       "      <td>Challenging</td>\n",
       "      <td>Solomon R. Guggenheim Museum®</td>\n",
       "      <td>4.6</td>\n",
       "      <td>Architecture</td>\n",
       "      <td>4.1</td>\n",
       "      <td>US</td>\n",
       "    </tr>\n",
       "  </tbody>\n",
       "</table>\n",
       "</div>"
      ],
      "text/plain": [
       "   ages  list_price  num_reviews  piece_count  play_star_rating  \\\n",
       "0  6-12       29.99          2.0        277.0               4.0   \n",
       "1  6-12       19.99          2.0        168.0               4.0   \n",
       "2  6-12       12.99         11.0         74.0               4.3   \n",
       "3   12+       99.99         23.0       1032.0               3.6   \n",
       "4   12+       79.99         14.0        744.0               3.2   \n",
       "\n",
       "                                           prod_desc  prod_id  \\\n",
       "0  Catapult into action and take back the eggs fr...  75823.0   \n",
       "1  Launch a flying attack and rescue the eggs fro...  75822.0   \n",
       "2  Chase the piggy with lightning-fast Chuck and ...  75821.0   \n",
       "3  Explore the architecture of the United States ...  21030.0   \n",
       "4  Recreate the Solomon R. Guggenheim Museum® wit...  21035.0   \n",
       "\n",
       "                                      prod_long_desc review_difficulty  \\\n",
       "0  Use the staircase catapult to launch Red into ...           Average   \n",
       "1  Pilot Pig has taken off from Bird Island with ...              Easy   \n",
       "2  Pitch speedy bird Chuck against the Piggy Car....              Easy   \n",
       "3  Discover the architectural secrets of the icon...           Average   \n",
       "4  Discover the architectural secrets of Frank Ll...       Challenging   \n",
       "\n",
       "                         set_name  star_rating    theme_name  val_star_rating  \\\n",
       "0           Bird Island Egg Heist          4.5  Angry Birds™              4.0   \n",
       "1              Piggy Plane Attack          5.0  Angry Birds™              4.0   \n",
       "2                Piggy Car Escape          4.3  Angry Birds™              4.1   \n",
       "3  United States Capitol Building          4.6  Architecture              4.3   \n",
       "4   Solomon R. Guggenheim Museum®          4.6  Architecture              4.1   \n",
       "\n",
       "  country  \n",
       "0      US  \n",
       "1      US  \n",
       "2      US  \n",
       "3      US  \n",
       "4      US  "
      ]
     },
     "execution_count": 5,
     "metadata": {},
     "output_type": "execute_result"
    }
   ],
   "source": [
    "df = pd.read_csv('lego_sets.csv') #Loads the dataframe in\n",
    "print(len(df)) #Prints the length of the dataframe\n",
    "df.head() #Uses a built in method common to all Pandas Dataframes"
   ]
  },
  {
   "cell_type": "markdown",
   "metadata": {},
   "source": [
    "# Python Comments\n",
    "\n",
    "Note the green text following the **#**.  \n",
    "Anything following a **#** in python is a comment and will not actually execute.  \n",
    "This is a useful feature for annotating your code with notes for yourself and other later so that your code is easy to read."
   ]
  },
  {
   "cell_type": "markdown",
   "metadata": {},
   "source": [
    "# Accessing Methods from Packages and Objects\n",
    "\n",
    "A little more theory and context:\n",
    "\n",
    "When we loaded in packages on our first cell block (import pandas as pd), we loaded code into memory. That code included functions, variables and other objects. Collectively, all of these items is loaded under the package name or alias.  \n",
    "\n",
    "We demonstrated this when we used the **pd.read_csv()** method above.  \n",
    "\n",
    "This also demonstrates the **dot notation** in python, which is how we access built in methods or attriubtes of a given object. Similar to what we saw with bash in the command line, we can also use **tab completion** to preview methods available in packages or other objects.  \n",
    "\n",
    "### Try this out yourself\n",
    "\n",
    "* In the cell below, navigate your cursor to the right of **pd.**\n",
    "* Press tab to see a list of available methods/attributes\n",
    "\n",
    "<img src=\"pd_methods.png\" width=600>"
   ]
  },
  {
   "cell_type": "code",
   "execution_count": null,
   "metadata": {},
   "outputs": [],
   "source": [
    "pd.read_clipboard"
   ]
  },
  {
   "cell_type": "markdown",
   "metadata": {},
   "source": [
    "You can also start typing to subset the list of available commands:\n",
    "<img src=\"pd_read_methods.png\" width=600>"
   ]
  },
  {
   "cell_type": "markdown",
   "metadata": {},
   "source": [
    "# Pulling up Docstrings\n",
    "\n",
    "Even better, you can even see how a method works by pulling up its **docstring**!  \n",
    "You can do this by writing **?** after the method and running the cell.\n",
    "\n",
    "<img src=\"docstring.png\" width=500> \n",
    "\n",
    "\n",
    "Try it out!"
   ]
  },
  {
   "cell_type": "code",
   "execution_count": 6,
   "metadata": {},
   "outputs": [],
   "source": [
    "pd.read_csv?"
   ]
  },
  {
   "cell_type": "markdown",
   "metadata": {},
   "source": [
    "Alternatively, you can pull up a preview of the docstring by pressing **shift+tab within the parentheses of a method**\n",
    "<img src=\"docstring_preview.png\" width=500>"
   ]
  },
  {
   "cell_type": "code",
   "execution_count": null,
   "metadata": {},
   "outputs": [],
   "source": [
    "pd.read_csv() #Move your cursor inside the parentheses and press shift+tab"
   ]
  },
  {
   "cell_type": "markdown",
   "metadata": {},
   "source": [
    "# Variables\n",
    "\n",
    "The other thing that happened in our block of code above was that we defined a **variable**.  \n",
    "\n",
    "This happened in the first line of code:  \n",
    "```df = pd.read_csv('causes_of_death_cleaned.csv')```\n",
    "\n",
    "As we saw, we used the built in *read_csv* method from the *pandas* package which we imported under the *alias* *pd*.  \n",
    "\n",
    "The output of this method was then assigned to the variable *df*. This is the standard syntax for declaring any variable. You do not have to specify variable types, as in many other programming languages. Simply:  \n",
    "\n",
    "`variable_name = what_to_stor_in_the_variable`"
   ]
  },
  {
   "cell_type": "markdown",
   "metadata": {},
   "source": [
    "# Built in Python Functions\n",
    "\n",
    "We also used two built in python functions:  \n",
    "    * len() #Returns the lenght of an object\n",
    "    * print() #Prints stuff!\n",
    "In general, **python has reserved keywords** for built in functions like this. \n",
    "**Be sure to not name your variables any of these!**\n",
    "\n",
    "<img src=\"python_built_in_functions.png\" width=600>"
   ]
  },
  {
   "cell_type": "markdown",
   "metadata": {},
   "source": [
    "You can also check what type of object something is using the built in **type()** method. This can be useful when determining how to work with an object that you are unfamiliar with."
   ]
  },
  {
   "cell_type": "code",
   "execution_count": 7,
   "metadata": {},
   "outputs": [
    {
     "data": {
      "text/plain": [
       "pandas.core.frame.DataFrame"
      ]
     },
     "execution_count": 7,
     "metadata": {},
     "output_type": "execute_result"
    }
   ],
   "source": [
    "type(df)"
   ]
  },
  {
   "cell_type": "markdown",
   "metadata": {},
   "source": [
    "# Common DataFrame Methods\n",
    "As you can see, our variable **df** is a DataFrame object (which is part of the Pandas core package). Here's some other common methods you will want to become familiar with when working with Pandas dataframes:  \n",
    "* df.head() \n",
    "    * Preview the first 5 rows of a dataframe. Pass a number for more/less rows\n",
    "* df.tail(10) \n",
    "    * Preview last 10 rows (default 5 if no number given)\n",
    "* df.info() \n",
    "    * Returns column names and details about each column\n",
    "* df.columns \n",
    "    * Return column names. Note that there is no parentheses for this. This is becuase this is an attribute as opposed to a method"
   ]
  },
  {
   "cell_type": "code",
   "execution_count": 10,
   "metadata": {},
   "outputs": [
    {
     "name": "stdout",
     "output_type": "stream",
     "text": [
      "<class 'pandas.core.frame.DataFrame'>\n",
      "RangeIndex: 12261 entries, 0 to 12260\n",
      "Data columns (total 14 columns):\n",
      "ages                 12261 non-null object\n",
      "list_price           12261 non-null float64\n",
      "num_reviews          10641 non-null float64\n",
      "piece_count          12261 non-null float64\n",
      "play_star_rating     10486 non-null float64\n",
      "prod_desc            11884 non-null object\n",
      "prod_id              12261 non-null float64\n",
      "prod_long_desc       12261 non-null object\n",
      "review_difficulty    10206 non-null object\n",
      "set_name             12261 non-null object\n",
      "star_rating          10641 non-null float64\n",
      "theme_name           12258 non-null object\n",
      "val_star_rating      10466 non-null float64\n",
      "country              12261 non-null object\n",
      "dtypes: float64(7), object(7)\n",
      "memory usage: 1.3+ MB\n"
     ]
    }
   ],
   "source": [
    "df.info()#Practice using some of these methods"
   ]
  },
  {
   "cell_type": "code",
   "execution_count": 15,
   "metadata": {
    "scrolled": true
   },
   "outputs": [
    {
     "data": {
      "text/plain": [
       "0        6-12\n",
       "1        6-12\n",
       "2        6-12\n",
       "3         12+\n",
       "4         12+\n",
       "5         12+\n",
       "6         12+\n",
       "7         12+\n",
       "8         12+\n",
       "9         12+\n",
       "10        12+\n",
       "11        12+\n",
       "12        12+\n",
       "13       7-12\n",
       "14        10+\n",
       "15        10+\n",
       "16        10+\n",
       "17        10+\n",
       "18        10+\n",
       "19        10+\n",
       "20        10+\n",
       "21        10+\n",
       "22        10+\n",
       "23        10+\n",
       "24        10+\n",
       "25        10+\n",
       "26        10+\n",
       "27        10+\n",
       "28        10+\n",
       "29        10+\n",
       "         ... \n",
       "12231    7-14\n",
       "12232    7-14\n",
       "12233    8-14\n",
       "12234    7-14\n",
       "12235    7-14\n",
       "12236    7-14\n",
       "12237    7-14\n",
       "12238    6-12\n",
       "12239    6-12\n",
       "12240      5+\n",
       "12241    8-14\n",
       "12242     16+\n",
       "12243    9-14\n",
       "12244    9-14\n",
       "12245    9-14\n",
       "12246    9-14\n",
       "12247    9-14\n",
       "12248    9-14\n",
       "12249    9-14\n",
       "12250    8-14\n",
       "12251    8-14\n",
       "12252    8-14\n",
       "12253    8-14\n",
       "12254    7-14\n",
       "12255    8-14\n",
       "12256    7-14\n",
       "12257    7-14\n",
       "12258    7-14\n",
       "12259    6-14\n",
       "12260    6-14\n",
       "Name: ages, Length: 12261, dtype: object"
      ]
     },
     "execution_count": 15,
     "metadata": {},
     "output_type": "execute_result"
    }
   ],
   "source": [
    "df.add#Use tab completion to investigate at least 3 other methods under the df object. \n",
    "df.ages #Pull up their docstrings and investigate what they do."
   ]
  },
  {
   "cell_type": "markdown",
   "metadata": {},
   "source": [
    "# Pandas Series\n",
    "\n",
    "While the entire spreadsheet is called a **dataframe**, each individual column is known as a **series**. You can access a specific column of a pandas dataframe one of two ways:  \n",
    "\n",
    "`df['col_name']`\n",
    "\n",
    "or  \n",
    "\n",
    "```df.col_name```\n",
    "\n",
    "First note that in `df['col_name']` we need 'quotations' around the column name. The quotations denote the column name is a **string**, python's built in variable type for storing text. This can alternatively be replaced with double quotes `df[\"col_name\"]`. In general, anything in quotations is a string in python code. Occassionally, with very ill formatted column names with quotations in the names themselves, you may even need to wrap a name in triple quotes `df[\"\"\"col_name\"\"\"]` . This will rarely happen in this particular context, but is also the general pattern for dealing with messy strings.   \n",
    "\n",
    "Note that the second method, `df.col_name`, will only work if there are no spaces within the name of the column. Similarly to tab completion with the command line, this is a primary reason why programers use dashes (-) and underscores (_) in lieu of whitespace in their variable and file names. Also note that no quotations are used when using this format. (The column names have been stored as attributes to the DataFrame object!)"
   ]
  },
  {
   "cell_type": "code",
   "execution_count": null,
   "metadata": {},
   "outputs": [],
   "source": [
    "#Previewing Data"
   ]
  },
  {
   "cell_type": "code",
   "execution_count": 58,
   "metadata": {},
   "outputs": [
    {
     "data": {
      "text/html": [
       "<div>\n",
       "<style scoped>\n",
       "    .dataframe tbody tr th:only-of-type {\n",
       "        vertical-align: middle;\n",
       "    }\n",
       "\n",
       "    .dataframe tbody tr th {\n",
       "        vertical-align: top;\n",
       "    }\n",
       "\n",
       "    .dataframe thead th {\n",
       "        text-align: right;\n",
       "    }\n",
       "</style>\n",
       "<table border=\"1\" class=\"dataframe\">\n",
       "  <thead>\n",
       "    <tr style=\"text-align: right;\">\n",
       "      <th></th>\n",
       "      <th>ages</th>\n",
       "      <th>list_price</th>\n",
       "      <th>num_reviews</th>\n",
       "      <th>piece_count</th>\n",
       "      <th>play_star_rating</th>\n",
       "      <th>prod_desc</th>\n",
       "      <th>prod_id</th>\n",
       "      <th>prod_long_desc</th>\n",
       "      <th>review_difficulty</th>\n",
       "      <th>set_name</th>\n",
       "      <th>star_rating</th>\n",
       "      <th>theme_name</th>\n",
       "      <th>val_star_rating</th>\n",
       "      <th>country</th>\n",
       "    </tr>\n",
       "  </thead>\n",
       "  <tbody>\n",
       "    <tr>\n",
       "      <th>0</th>\n",
       "      <td>6-12</td>\n",
       "      <td>29.99</td>\n",
       "      <td>2.0</td>\n",
       "      <td>277.0</td>\n",
       "      <td>4.0</td>\n",
       "      <td>Catapult into action and take back the eggs fr...</td>\n",
       "      <td>75823.0</td>\n",
       "      <td>Use the staircase catapult to launch Red into ...</td>\n",
       "      <td>Average</td>\n",
       "      <td>Bird Island Egg Heist</td>\n",
       "      <td>4.5</td>\n",
       "      <td>Angry Birds™</td>\n",
       "      <td>4.0</td>\n",
       "      <td>US</td>\n",
       "    </tr>\n",
       "    <tr>\n",
       "      <th>1</th>\n",
       "      <td>6-12</td>\n",
       "      <td>19.99</td>\n",
       "      <td>2.0</td>\n",
       "      <td>168.0</td>\n",
       "      <td>4.0</td>\n",
       "      <td>Launch a flying attack and rescue the eggs fro...</td>\n",
       "      <td>75822.0</td>\n",
       "      <td>Pilot Pig has taken off from Bird Island with ...</td>\n",
       "      <td>Easy</td>\n",
       "      <td>Piggy Plane Attack</td>\n",
       "      <td>5.0</td>\n",
       "      <td>Angry Birds™</td>\n",
       "      <td>4.0</td>\n",
       "      <td>US</td>\n",
       "    </tr>\n",
       "    <tr>\n",
       "      <th>2</th>\n",
       "      <td>6-12</td>\n",
       "      <td>12.99</td>\n",
       "      <td>11.0</td>\n",
       "      <td>74.0</td>\n",
       "      <td>4.3</td>\n",
       "      <td>Chase the piggy with lightning-fast Chuck and ...</td>\n",
       "      <td>75821.0</td>\n",
       "      <td>Pitch speedy bird Chuck against the Piggy Car....</td>\n",
       "      <td>Easy</td>\n",
       "      <td>Piggy Car Escape</td>\n",
       "      <td>4.3</td>\n",
       "      <td>Angry Birds™</td>\n",
       "      <td>4.1</td>\n",
       "      <td>US</td>\n",
       "    </tr>\n",
       "    <tr>\n",
       "      <th>3</th>\n",
       "      <td>12+</td>\n",
       "      <td>99.99</td>\n",
       "      <td>23.0</td>\n",
       "      <td>1032.0</td>\n",
       "      <td>3.6</td>\n",
       "      <td>Explore the architecture of the United States ...</td>\n",
       "      <td>21030.0</td>\n",
       "      <td>Discover the architectural secrets of the icon...</td>\n",
       "      <td>Average</td>\n",
       "      <td>United States Capitol Building</td>\n",
       "      <td>4.6</td>\n",
       "      <td>Architecture</td>\n",
       "      <td>4.3</td>\n",
       "      <td>US</td>\n",
       "    </tr>\n",
       "    <tr>\n",
       "      <th>4</th>\n",
       "      <td>12+</td>\n",
       "      <td>79.99</td>\n",
       "      <td>14.0</td>\n",
       "      <td>744.0</td>\n",
       "      <td>3.2</td>\n",
       "      <td>Recreate the Solomon R. Guggenheim Museum® wit...</td>\n",
       "      <td>21035.0</td>\n",
       "      <td>Discover the architectural secrets of Frank Ll...</td>\n",
       "      <td>Challenging</td>\n",
       "      <td>Solomon R. Guggenheim Museum®</td>\n",
       "      <td>4.6</td>\n",
       "      <td>Architecture</td>\n",
       "      <td>4.1</td>\n",
       "      <td>US</td>\n",
       "    </tr>\n",
       "    <tr>\n",
       "      <th>5</th>\n",
       "      <td>12+</td>\n",
       "      <td>59.99</td>\n",
       "      <td>7.0</td>\n",
       "      <td>597.0</td>\n",
       "      <td>3.7</td>\n",
       "      <td>Celebrate Shanghai with this LEGO® Architectur...</td>\n",
       "      <td>21039.0</td>\n",
       "      <td>Recreate Shanghai in China's blend of historic...</td>\n",
       "      <td>Average</td>\n",
       "      <td>Shanghai</td>\n",
       "      <td>4.9</td>\n",
       "      <td>Architecture</td>\n",
       "      <td>4.4</td>\n",
       "      <td>US</td>\n",
       "    </tr>\n",
       "    <tr>\n",
       "      <th>6</th>\n",
       "      <td>12+</td>\n",
       "      <td>59.99</td>\n",
       "      <td>37.0</td>\n",
       "      <td>598.0</td>\n",
       "      <td>3.7</td>\n",
       "      <td>Celebrate New York City with this LEGO® Archit...</td>\n",
       "      <td>21028.0</td>\n",
       "      <td>Celebrate the architectural diversity of New Y...</td>\n",
       "      <td>Average</td>\n",
       "      <td>New York City</td>\n",
       "      <td>4.2</td>\n",
       "      <td>Architecture</td>\n",
       "      <td>4.1</td>\n",
       "      <td>US</td>\n",
       "    </tr>\n",
       "    <tr>\n",
       "      <th>7</th>\n",
       "      <td>12+</td>\n",
       "      <td>49.99</td>\n",
       "      <td>24.0</td>\n",
       "      <td>780.0</td>\n",
       "      <td>4.4</td>\n",
       "      <td>Recreate Buckingham Palace with LEGO® Architec...</td>\n",
       "      <td>21029.0</td>\n",
       "      <td>Build a LEGO® brick model of London's official...</td>\n",
       "      <td>Average</td>\n",
       "      <td>Buckingham Palace</td>\n",
       "      <td>4.7</td>\n",
       "      <td>Architecture</td>\n",
       "      <td>4.3</td>\n",
       "      <td>US</td>\n",
       "    </tr>\n",
       "    <tr>\n",
       "      <th>8</th>\n",
       "      <td>12+</td>\n",
       "      <td>39.99</td>\n",
       "      <td>23.0</td>\n",
       "      <td>468.0</td>\n",
       "      <td>3.6</td>\n",
       "      <td>Celebrate London with this LEGO® Architecture ...</td>\n",
       "      <td>21034.0</td>\n",
       "      <td>Celebrate the architectural diversity of Londo...</td>\n",
       "      <td>Average</td>\n",
       "      <td>London</td>\n",
       "      <td>4.7</td>\n",
       "      <td>Architecture</td>\n",
       "      <td>4.1</td>\n",
       "      <td>US</td>\n",
       "    </tr>\n",
       "    <tr>\n",
       "      <th>9</th>\n",
       "      <td>12+</td>\n",
       "      <td>39.99</td>\n",
       "      <td>11.0</td>\n",
       "      <td>444.0</td>\n",
       "      <td>3.6</td>\n",
       "      <td>Celebrate Chicago with this LEGO® Architecture...</td>\n",
       "      <td>21033.0</td>\n",
       "      <td>Recreate Chicago’s blend of historical and mod...</td>\n",
       "      <td>Average</td>\n",
       "      <td>Chicago</td>\n",
       "      <td>4.8</td>\n",
       "      <td>Architecture</td>\n",
       "      <td>4.5</td>\n",
       "      <td>US</td>\n",
       "    </tr>\n",
       "    <tr>\n",
       "      <th>10</th>\n",
       "      <td>12+</td>\n",
       "      <td>39.99</td>\n",
       "      <td>14.0</td>\n",
       "      <td>386.0</td>\n",
       "      <td>4.1</td>\n",
       "      <td>Experience the grandeur of the Arc de Triomphe!</td>\n",
       "      <td>21036.0</td>\n",
       "      <td>Capture the architectural elegance of one of t...</td>\n",
       "      <td>Average</td>\n",
       "      <td>Arc de Triomphe</td>\n",
       "      <td>4.4</td>\n",
       "      <td>Architecture</td>\n",
       "      <td>3.6</td>\n",
       "      <td>US</td>\n",
       "    </tr>\n",
       "    <tr>\n",
       "      <th>11</th>\n",
       "      <td>12+</td>\n",
       "      <td>34.99</td>\n",
       "      <td>53.0</td>\n",
       "      <td>321.0</td>\n",
       "      <td>3.2</td>\n",
       "      <td>Build your own LEGO® interpretation of the ico...</td>\n",
       "      <td>21019.0</td>\n",
       "      <td>Presenting the LEGO® Architecture interpretati...</td>\n",
       "      <td>Average</td>\n",
       "      <td>The Eiffel Tower</td>\n",
       "      <td>4.6</td>\n",
       "      <td>Architecture</td>\n",
       "      <td>4.4</td>\n",
       "      <td>US</td>\n",
       "    </tr>\n",
       "    <tr>\n",
       "      <th>12</th>\n",
       "      <td>12+</td>\n",
       "      <td>29.99</td>\n",
       "      <td>7.0</td>\n",
       "      <td>361.0</td>\n",
       "      <td>4.2</td>\n",
       "      <td>Celebrate Sydney with this LEGO® Architecture ...</td>\n",
       "      <td>21032.0</td>\n",
       "      <td>Capture the architectural essence and splendor...</td>\n",
       "      <td>Easy</td>\n",
       "      <td>Sydney</td>\n",
       "      <td>4.6</td>\n",
       "      <td>Architecture</td>\n",
       "      <td>4.2</td>\n",
       "      <td>US</td>\n",
       "    </tr>\n",
       "    <tr>\n",
       "      <th>13</th>\n",
       "      <td>7-12</td>\n",
       "      <td>159.99</td>\n",
       "      <td>63.0</td>\n",
       "      <td>847.0</td>\n",
       "      <td>3.8</td>\n",
       "      <td>Bring your LEGO® creations to life!</td>\n",
       "      <td>17101.0</td>\n",
       "      <td>Take your LEGO® play to the next level with th...</td>\n",
       "      <td>Average</td>\n",
       "      <td>BOOST Creative Toolbox</td>\n",
       "      <td>3.4</td>\n",
       "      <td>BOOST</td>\n",
       "      <td>3.5</td>\n",
       "      <td>US</td>\n",
       "    </tr>\n",
       "    <tr>\n",
       "      <th>14</th>\n",
       "      <td>10+</td>\n",
       "      <td>29.99</td>\n",
       "      <td>13.0</td>\n",
       "      <td>708.0</td>\n",
       "      <td>4.7</td>\n",
       "      <td>Build a LEGO® BrickHeadz version of yourself!</td>\n",
       "      <td>41597.0</td>\n",
       "      <td>Fuel your creativity by making a LEGO® BrickHe...</td>\n",
       "      <td>Average</td>\n",
       "      <td>Go Brick Me</td>\n",
       "      <td>4.8</td>\n",
       "      <td>BrickHeadz</td>\n",
       "      <td>4.8</td>\n",
       "      <td>US</td>\n",
       "    </tr>\n",
       "    <tr>\n",
       "      <th>15</th>\n",
       "      <td>10+</td>\n",
       "      <td>19.99</td>\n",
       "      <td>1.0</td>\n",
       "      <td>234.0</td>\n",
       "      <td>3.0</td>\n",
       "      <td>Train a raptor with LEGO® BrickHeadz™ Owen and...</td>\n",
       "      <td>41614.0</td>\n",
       "      <td>These LEGO® BrickHeadz™ 41614 Owen &amp; Blue cons...</td>\n",
       "      <td>Easy</td>\n",
       "      <td>Owen &amp; Blue</td>\n",
       "      <td>5.0</td>\n",
       "      <td>BrickHeadz</td>\n",
       "      <td>5.0</td>\n",
       "      <td>US</td>\n",
       "    </tr>\n",
       "    <tr>\n",
       "      <th>16</th>\n",
       "      <td>10+</td>\n",
       "      <td>19.99</td>\n",
       "      <td>1.0</td>\n",
       "      <td>160.0</td>\n",
       "      <td>5.0</td>\n",
       "      <td>Join Mr. Incredible and Frozone for LEGO® Bric...</td>\n",
       "      <td>41613.0</td>\n",
       "      <td>These LEGO® BrickHeadz™ 41613 Mr. Incredible &amp;...</td>\n",
       "      <td>Very Easy</td>\n",
       "      <td>Mr. Incredible &amp; Frozone</td>\n",
       "      <td>5.0</td>\n",
       "      <td>BrickHeadz</td>\n",
       "      <td>5.0</td>\n",
       "      <td>US</td>\n",
       "    </tr>\n",
       "    <tr>\n",
       "      <th>17</th>\n",
       "      <td>10+</td>\n",
       "      <td>9.99</td>\n",
       "      <td>1.0</td>\n",
       "      <td>149.0</td>\n",
       "      <td>2.0</td>\n",
       "      <td>Growl like a Wookiee with a LEGO® BrickHeadz™ ...</td>\n",
       "      <td>41609.0</td>\n",
       "      <td>This LEGO® BrickHeadz™ 41609 Chewbacca is fun ...</td>\n",
       "      <td>Very Easy</td>\n",
       "      <td>Chewbacca™</td>\n",
       "      <td>3.0</td>\n",
       "      <td>BrickHeadz</td>\n",
       "      <td>4.0</td>\n",
       "      <td>US</td>\n",
       "    </tr>\n",
       "    <tr>\n",
       "      <th>18</th>\n",
       "      <td>10+</td>\n",
       "      <td>9.99</td>\n",
       "      <td>1.0</td>\n",
       "      <td>141.0</td>\n",
       "      <td>2.0</td>\n",
       "      <td>Be a rogue with a LEGO® BrickHeadz™ constructi...</td>\n",
       "      <td>41608.0</td>\n",
       "      <td>This LEGO® BrickHeadz™ 41608 Han Solo is fun t...</td>\n",
       "      <td>Very Easy</td>\n",
       "      <td>Han Solo™</td>\n",
       "      <td>4.0</td>\n",
       "      <td>BrickHeadz</td>\n",
       "      <td>4.0</td>\n",
       "      <td>US</td>\n",
       "    </tr>\n",
       "    <tr>\n",
       "      <th>19</th>\n",
       "      <td>10+</td>\n",
       "      <td>9.99</td>\n",
       "      <td>3.0</td>\n",
       "      <td>101.0</td>\n",
       "      <td>4.0</td>\n",
       "      <td>Save the universe with LEGO® BrickHeadz Iron M...</td>\n",
       "      <td>41604.0</td>\n",
       "      <td>This Iron Man MK50 LEGO® BrickHeadz constructi...</td>\n",
       "      <td>Average</td>\n",
       "      <td>Iron Man MK50</td>\n",
       "      <td>4.7</td>\n",
       "      <td>BrickHeadz</td>\n",
       "      <td>4.5</td>\n",
       "      <td>US</td>\n",
       "    </tr>\n",
       "  </tbody>\n",
       "</table>\n",
       "</div>"
      ],
      "text/plain": [
       "    ages  list_price  num_reviews  piece_count  play_star_rating  \\\n",
       "0   6-12       29.99          2.0        277.0               4.0   \n",
       "1   6-12       19.99          2.0        168.0               4.0   \n",
       "2   6-12       12.99         11.0         74.0               4.3   \n",
       "3    12+       99.99         23.0       1032.0               3.6   \n",
       "4    12+       79.99         14.0        744.0               3.2   \n",
       "5    12+       59.99          7.0        597.0               3.7   \n",
       "6    12+       59.99         37.0        598.0               3.7   \n",
       "7    12+       49.99         24.0        780.0               4.4   \n",
       "8    12+       39.99         23.0        468.0               3.6   \n",
       "9    12+       39.99         11.0        444.0               3.6   \n",
       "10   12+       39.99         14.0        386.0               4.1   \n",
       "11   12+       34.99         53.0        321.0               3.2   \n",
       "12   12+       29.99          7.0        361.0               4.2   \n",
       "13  7-12      159.99         63.0        847.0               3.8   \n",
       "14   10+       29.99         13.0        708.0               4.7   \n",
       "15   10+       19.99          1.0        234.0               3.0   \n",
       "16   10+       19.99          1.0        160.0               5.0   \n",
       "17   10+        9.99          1.0        149.0               2.0   \n",
       "18   10+        9.99          1.0        141.0               2.0   \n",
       "19   10+        9.99          3.0        101.0               4.0   \n",
       "\n",
       "                                            prod_desc  prod_id  \\\n",
       "0   Catapult into action and take back the eggs fr...  75823.0   \n",
       "1   Launch a flying attack and rescue the eggs fro...  75822.0   \n",
       "2   Chase the piggy with lightning-fast Chuck and ...  75821.0   \n",
       "3   Explore the architecture of the United States ...  21030.0   \n",
       "4   Recreate the Solomon R. Guggenheim Museum® wit...  21035.0   \n",
       "5   Celebrate Shanghai with this LEGO® Architectur...  21039.0   \n",
       "6   Celebrate New York City with this LEGO® Archit...  21028.0   \n",
       "7   Recreate Buckingham Palace with LEGO® Architec...  21029.0   \n",
       "8   Celebrate London with this LEGO® Architecture ...  21034.0   \n",
       "9   Celebrate Chicago with this LEGO® Architecture...  21033.0   \n",
       "10    Experience the grandeur of the Arc de Triomphe!  21036.0   \n",
       "11  Build your own LEGO® interpretation of the ico...  21019.0   \n",
       "12  Celebrate Sydney with this LEGO® Architecture ...  21032.0   \n",
       "13                Bring your LEGO® creations to life!  17101.0   \n",
       "14      Build a LEGO® BrickHeadz version of yourself!  41597.0   \n",
       "15  Train a raptor with LEGO® BrickHeadz™ Owen and...  41614.0   \n",
       "16  Join Mr. Incredible and Frozone for LEGO® Bric...  41613.0   \n",
       "17  Growl like a Wookiee with a LEGO® BrickHeadz™ ...  41609.0   \n",
       "18  Be a rogue with a LEGO® BrickHeadz™ constructi...  41608.0   \n",
       "19  Save the universe with LEGO® BrickHeadz Iron M...  41604.0   \n",
       "\n",
       "                                       prod_long_desc review_difficulty  \\\n",
       "0   Use the staircase catapult to launch Red into ...           Average   \n",
       "1   Pilot Pig has taken off from Bird Island with ...              Easy   \n",
       "2   Pitch speedy bird Chuck against the Piggy Car....              Easy   \n",
       "3   Discover the architectural secrets of the icon...           Average   \n",
       "4   Discover the architectural secrets of Frank Ll...       Challenging   \n",
       "5   Recreate Shanghai in China's blend of historic...           Average   \n",
       "6   Celebrate the architectural diversity of New Y...           Average   \n",
       "7   Build a LEGO® brick model of London's official...           Average   \n",
       "8   Celebrate the architectural diversity of Londo...           Average   \n",
       "9   Recreate Chicago’s blend of historical and mod...           Average   \n",
       "10  Capture the architectural elegance of one of t...           Average   \n",
       "11  Presenting the LEGO® Architecture interpretati...           Average   \n",
       "12  Capture the architectural essence and splendor...              Easy   \n",
       "13  Take your LEGO® play to the next level with th...           Average   \n",
       "14  Fuel your creativity by making a LEGO® BrickHe...           Average   \n",
       "15  These LEGO® BrickHeadz™ 41614 Owen & Blue cons...              Easy   \n",
       "16  These LEGO® BrickHeadz™ 41613 Mr. Incredible &...         Very Easy   \n",
       "17  This LEGO® BrickHeadz™ 41609 Chewbacca is fun ...         Very Easy   \n",
       "18  This LEGO® BrickHeadz™ 41608 Han Solo is fun t...         Very Easy   \n",
       "19  This Iron Man MK50 LEGO® BrickHeadz constructi...           Average   \n",
       "\n",
       "                          set_name  star_rating    theme_name  \\\n",
       "0            Bird Island Egg Heist          4.5  Angry Birds™   \n",
       "1               Piggy Plane Attack          5.0  Angry Birds™   \n",
       "2                 Piggy Car Escape          4.3  Angry Birds™   \n",
       "3   United States Capitol Building          4.6  Architecture   \n",
       "4    Solomon R. Guggenheim Museum®          4.6  Architecture   \n",
       "5                         Shanghai          4.9  Architecture   \n",
       "6                    New York City          4.2  Architecture   \n",
       "7                Buckingham Palace          4.7  Architecture   \n",
       "8                           London          4.7  Architecture   \n",
       "9                          Chicago          4.8  Architecture   \n",
       "10                 Arc de Triomphe          4.4  Architecture   \n",
       "11                The Eiffel Tower          4.6  Architecture   \n",
       "12                          Sydney          4.6  Architecture   \n",
       "13          BOOST Creative Toolbox          3.4         BOOST   \n",
       "14                     Go Brick Me          4.8    BrickHeadz   \n",
       "15                     Owen & Blue          5.0    BrickHeadz   \n",
       "16        Mr. Incredible & Frozone          5.0    BrickHeadz   \n",
       "17                      Chewbacca™          3.0    BrickHeadz   \n",
       "18                       Han Solo™          4.0    BrickHeadz   \n",
       "19                   Iron Man MK50          4.7    BrickHeadz   \n",
       "\n",
       "    val_star_rating country  \n",
       "0               4.0      US  \n",
       "1               4.0      US  \n",
       "2               4.1      US  \n",
       "3               4.3      US  \n",
       "4               4.1      US  \n",
       "5               4.4      US  \n",
       "6               4.1      US  \n",
       "7               4.3      US  \n",
       "8               4.1      US  \n",
       "9               4.5      US  \n",
       "10              3.6      US  \n",
       "11              4.4      US  \n",
       "12              4.2      US  \n",
       "13              3.5      US  \n",
       "14              4.8      US  \n",
       "15              5.0      US  \n",
       "16              5.0      US  \n",
       "17              4.0      US  \n",
       "18              4.0      US  \n",
       "19              4.5      US  "
      ]
     },
     "execution_count": 58,
     "metadata": {},
     "output_type": "execute_result"
    }
   ],
   "source": [
    "df.head(20) #preview your spreadsheet again; 2 keeps it a nice small preview"
   ]
  },
  {
   "cell_type": "code",
   "execution_count": 30,
   "metadata": {},
   "outputs": [
    {
     "data": {
      "text/plain": [
       "0        6-12\n",
       "1        6-12\n",
       "2        6-12\n",
       "3         12+\n",
       "4         12+\n",
       "5         12+\n",
       "6         12+\n",
       "7         12+\n",
       "8         12+\n",
       "9         12+\n",
       "10        12+\n",
       "11        12+\n",
       "12        12+\n",
       "13       7-12\n",
       "14        10+\n",
       "15        10+\n",
       "16        10+\n",
       "17        10+\n",
       "18        10+\n",
       "19        10+\n",
       "20        10+\n",
       "21        10+\n",
       "22        10+\n",
       "23        10+\n",
       "24        10+\n",
       "25        10+\n",
       "26        10+\n",
       "27        10+\n",
       "28        10+\n",
       "29        10+\n",
       "         ... \n",
       "12231    7-14\n",
       "12232    7-14\n",
       "12233    8-14\n",
       "12234    7-14\n",
       "12235    7-14\n",
       "12236    7-14\n",
       "12237    7-14\n",
       "12238    6-12\n",
       "12239    6-12\n",
       "12240      5+\n",
       "12241    8-14\n",
       "12242     16+\n",
       "12243    9-14\n",
       "12244    9-14\n",
       "12245    9-14\n",
       "12246    9-14\n",
       "12247    9-14\n",
       "12248    9-14\n",
       "12249    9-14\n",
       "12250    8-14\n",
       "12251    8-14\n",
       "12252    8-14\n",
       "12253    8-14\n",
       "12254    7-14\n",
       "12255    8-14\n",
       "12256    7-14\n",
       "12257    7-14\n",
       "12258    7-14\n",
       "12259    6-14\n",
       "12260    6-14\n",
       "Name: ages, Length: 12261, dtype: object"
      ]
     },
     "execution_count": 30,
     "metadata": {},
     "output_type": "execute_result"
    }
   ],
   "source": [
    "df.ages.astype(str)"
   ]
  },
  {
   "cell_type": "code",
   "execution_count": 18,
   "metadata": {},
   "outputs": [
    {
     "data": {
      "text/plain": [
       "0    6-12\n",
       "1    6-12\n",
       "2    6-12\n",
       "3     12+\n",
       "4     12+\n",
       "Name: ages, dtype: object"
      ]
     },
     "execution_count": 18,
     "metadata": {},
     "output_type": "execute_result"
    }
   ],
   "source": [
    "df.ages[:5] #Here we introduce another new syntax the list slice [:5] this limits us to the first 5 items"
   ]
  },
  {
   "cell_type": "markdown",
   "metadata": {},
   "source": [
    "# List and Series Slices\n",
    "Above, we introduced an entirely new programming pattern called a slice.  \n",
    "The syntax for a slice is `[start:end]`.   \n",
    "\n",
    "You can also pass an additional third parameter `[start:end:count_by]` which will allow you to:  \n",
    "count every other: `[start:end:2]`  \n",
    "count backwards: `start:end:-1]`  \n",
    "or potentially much more cryptic patterns, depending on what you pass.  \n",
    "\n",
    "While we could have also used `df.State.head()`, slicing works for many more datatypes. This includes the previously mentioned *strings* as well as **lists** and other iterable objects. **Series**, the columns of the pandas DataFrame are similar to python's built in *lists*, but also have additional *methods* built in to them that we will continue to investigate."
   ]
  },
  {
   "cell_type": "code",
   "execution_count": 22,
   "metadata": {},
   "outputs": [
    {
     "ename": "AttributeError",
     "evalue": "'DataFrame' object has no attribute 'State'",
     "output_type": "error",
     "traceback": [
      "\u001b[0;31m---------------------------------------------------------------------------\u001b[0m",
      "\u001b[0;31mAttributeError\u001b[0m                            Traceback (most recent call last)",
      "\u001b[0;32m<ipython-input-22-51c01bb19e70>\u001b[0m in \u001b[0;36m<module>\u001b[0;34m()\u001b[0m\n\u001b[0;32m----> 1\u001b[0;31m \u001b[0mdf\u001b[0m\u001b[0;34m.\u001b[0m\u001b[0mState\u001b[0m\u001b[0;34m.\u001b[0m\u001b[0mhead\u001b[0m\u001b[0;34m(\u001b[0m\u001b[0;34m)\u001b[0m\u001b[0;34m\u001b[0m\u001b[0m\n\u001b[0m",
      "\u001b[0;32m/anaconda3/envs/learn-env/lib/python3.6/site-packages/pandas/core/generic.py\u001b[0m in \u001b[0;36m__getattr__\u001b[0;34m(self, name)\u001b[0m\n\u001b[1;32m   4374\u001b[0m             \u001b[0;32mif\u001b[0m \u001b[0mself\u001b[0m\u001b[0;34m.\u001b[0m\u001b[0m_info_axis\u001b[0m\u001b[0;34m.\u001b[0m\u001b[0m_can_hold_identifiers_and_holds_name\u001b[0m\u001b[0;34m(\u001b[0m\u001b[0mname\u001b[0m\u001b[0;34m)\u001b[0m\u001b[0;34m:\u001b[0m\u001b[0;34m\u001b[0m\u001b[0m\n\u001b[1;32m   4375\u001b[0m                 \u001b[0;32mreturn\u001b[0m \u001b[0mself\u001b[0m\u001b[0;34m[\u001b[0m\u001b[0mname\u001b[0m\u001b[0;34m]\u001b[0m\u001b[0;34m\u001b[0m\u001b[0m\n\u001b[0;32m-> 4376\u001b[0;31m             \u001b[0;32mreturn\u001b[0m \u001b[0mobject\u001b[0m\u001b[0;34m.\u001b[0m\u001b[0m__getattribute__\u001b[0m\u001b[0;34m(\u001b[0m\u001b[0mself\u001b[0m\u001b[0;34m,\u001b[0m \u001b[0mname\u001b[0m\u001b[0;34m)\u001b[0m\u001b[0;34m\u001b[0m\u001b[0m\n\u001b[0m\u001b[1;32m   4377\u001b[0m \u001b[0;34m\u001b[0m\u001b[0m\n\u001b[1;32m   4378\u001b[0m     \u001b[0;32mdef\u001b[0m \u001b[0m__setattr__\u001b[0m\u001b[0;34m(\u001b[0m\u001b[0mself\u001b[0m\u001b[0;34m,\u001b[0m \u001b[0mname\u001b[0m\u001b[0;34m,\u001b[0m \u001b[0mvalue\u001b[0m\u001b[0;34m)\u001b[0m\u001b[0;34m:\u001b[0m\u001b[0;34m\u001b[0m\u001b[0m\n",
      "\u001b[0;31mAttributeError\u001b[0m: 'DataFrame' object has no attribute 'State'"
     ]
    }
   ],
   "source": [
    "df.State.head()"
   ]
  },
  {
   "cell_type": "markdown",
   "metadata": {},
   "source": [
    "# Common Series Methods\n",
    "Some very useful series methods include:  \n",
    "* df.col_name.value_counts()\n",
    "* df.col_name.astype()\n",
    "* series.mean()     #Changing notation here: series refers to df.col_name (which is a series)!\n",
    "* series.median()\n",
    "* series.min()\n",
    "* series.max()\n",
    "* series.std()\n",
    "* series.unique()\n",
    "* series.nunique()\n",
    "* series.sample()\n",
    "* series.sort_values()\n",
    "\n",
    "There are also many more but this is a very good starting point.\n",
    "Start pulling up some docstrings and getting acquainted with reading them yourself before we go through a few of these methods together."
   ]
  },
  {
   "cell_type": "code",
   "execution_count": 32,
   "metadata": {},
   "outputs": [
    {
     "data": {
      "text/plain": [
       "5.0    2219\n",
       "4.5    1136\n",
       "4.7     840\n",
       "4.0     816\n",
       "4.3     793\n",
       "4.6     685\n",
       "4.4     566\n",
       "4.8     504\n",
       "4.2     467\n",
       "4.1     320\n",
       "3.9     281\n",
       "3.6     213\n",
       "4.9     204\n",
       "3.5     204\n",
       "3.0     202\n",
       "3.2     192\n",
       "3.7     186\n",
       "3.8     148\n",
       "2.0     126\n",
       "3.3     120\n",
       "2.7      64\n",
       "1.0      42\n",
       "2.2      42\n",
       "2.5      42\n",
       "3.4      25\n",
       "2.9      21\n",
       "2.3      20\n",
       "3.1       4\n",
       "2.8       2\n",
       "2.1       2\n",
       "Name: play_star_rating, dtype: int64"
      ]
     },
     "execution_count": 32,
     "metadata": {},
     "output_type": "execute_result"
    }
   ],
   "source": [
    "df.play_star_rating.value_counts() #Read the docstring and tinker! See how it works."
   ]
  },
  {
   "cell_type": "code",
   "execution_count": null,
   "metadata": {},
   "outputs": [],
   "source": [
    "#Keep tinkering!"
   ]
  },
  {
   "cell_type": "markdown",
   "metadata": {},
   "source": [
    "# Practice questions\n",
    "\n",
    "It's time to put a little bit of this into practice."
   ]
  },
  {
   "cell_type": "markdown",
   "metadata": {},
   "source": [
    "## 1. What are the 5 most common theme names?"
   ]
  },
  {
   "cell_type": "code",
   "execution_count": 43,
   "metadata": {},
   "outputs": [
    {
     "data": {
      "text/plain": [
       "Star Wars™                   1377\n",
       "DUPLO®                       1166\n",
       "City                         1092\n",
       "Juniors                       978\n",
       "THE LEGO® NINJAGO® MOVIE™     796\n",
       "Name: theme_name, dtype: int64"
      ]
     },
     "execution_count": 43,
     "metadata": {},
     "output_type": "execute_result"
    }
   ],
   "source": [
    "df.theme_name.value_counts()[:5] #Your code/answer here"
   ]
  },
  {
   "cell_type": "markdown",
   "metadata": {},
   "source": [
    "## 2. What was the average lego set price?"
   ]
  },
  {
   "cell_type": "code",
   "execution_count": 37,
   "metadata": {},
   "outputs": [
    {
     "data": {
      "text/plain": [
       "65.14199840959138"
      ]
     },
     "execution_count": 37,
     "metadata": {},
     "output_type": "execute_result"
    }
   ],
   "source": [
    "df.list_price.mean()#Your code/answer here"
   ]
  },
  {
   "cell_type": "markdown",
   "metadata": {},
   "source": [
    "## 3. Which set do you think is the most popular?"
   ]
  },
  {
   "cell_type": "code",
   "execution_count": 47,
   "metadata": {},
   "outputs": [
    {
     "data": {
      "text/plain": [
       "'LEGO® NASA Apollo Saturn V'"
      ]
     },
     "execution_count": 47,
     "metadata": {},
     "output_type": "execute_result"
    }
   ],
   "source": [
    "df.num_reviews.sort_values(ascending=False)\n",
    "df.set_name.iloc[2240]#Your code/answer here"
   ]
  },
  {
   "cell_type": "markdown",
   "metadata": {},
   "source": [
    "# Graphing\n",
    "\n",
    "Our bread and butter tool for graphing in python will be **matplotlib**. \n",
    "There are a number of other packages you can also check out for visualization later on such as plotly, folium, and bokeh to name a few, but matplotlib is an industry standard used widely. As with the pandas package, we must import  the matplotlib package to use its built in functions and methods. Rather then import the entire package however, we import only the piece we intend to use (hence the dot notation) and again alias this under the shorthand *plt*. Finally, the iPython magic command **% matplotlib inline** makes these graphs appear within our jupyter notebook."
   ]
  },
  {
   "cell_type": "code",
   "execution_count": 41,
   "metadata": {},
   "outputs": [],
   "source": [
    "#import a subset of the matplotlib package under the alias 'plt'\n",
    "import matplotlib.pyplot as plt\n",
    "\n",
    "#ipython magic command for displaying graphs within the notebook\n",
    "%matplotlib inline"
   ]
  },
  {
   "cell_type": "code",
   "execution_count": 42,
   "metadata": {},
   "outputs": [
    {
     "data": {
      "text/plain": [
       "<matplotlib.axes._subplots.AxesSubplot at 0x11b780668>"
      ]
     },
     "execution_count": 42,
     "metadata": {},
     "output_type": "execute_result"
    },
    {
     "data": {
      "image/png": "[encoded data removed]",
      "text/plain": [
       "<Figure size 432x288 with 1 Axes>"
      ]
     },
     "metadata": {
      "needs_background": "light"
     },
     "output_type": "display_data"
    }
   ],
   "source": [
    "to_graph = df.theme_name.value_counts()[:5]\n",
    "to_graph.plot(kind='barh')"
   ]
  },
  {
   "cell_type": "markdown",
   "metadata": {},
   "source": [
    "# Adding labels\n",
    "The graph above is a good start, but we should be sure to add some labels! To do this we make successive calls to the `plt` package we imported. Some common methods you should be familiar with include:  \n",
    "* plt.title()\n",
    "* plt.xlabel()\n",
    "* plt.ylabel()\n",
    "* plt.legend()\n",
    "* plt.xticks()\n",
    "* plt.yticks()"
   ]
  },
  {
   "cell_type": "code",
   "execution_count": 15,
   "metadata": {},
   "outputs": [
    {
     "data": {
      "text/plain": [
       "Text(0,0.5,'Theme')"
      ]
     },
     "execution_count": 15,
     "metadata": {},
     "output_type": "execute_result"
    },
    {
     "data": {
      "image/png": "[encoded data removed]",
      "text/plain": [
       "<Figure size 432x288 with 1 Axes>"
      ]
     },
     "metadata": {},
     "output_type": "display_data"
    }
   ],
   "source": [
    "to_graph = df.theme_name.value_counts()[:5]\n",
    "to_graph.plot(kind='barh') #lots of other optional parameters can be passed such as color\n",
    "plt.title('Top 5 Lego Themes', fontsize=16) #fontsize is optional\n",
    "plt.xlabel('Number of Lego Sets') #you could also pass in fontsize if you wanted here\n",
    "plt.ylabel('Theme') #you could also rotate text if you wanted"
   ]
  },
  {
   "cell_type": "markdown",
   "metadata": {},
   "source": [
    "# Practice and Explore\n",
    "\n",
    "Take a minute to try chaining some of these methods together to create a few of your own visuals for practice. Some ideas can include making a scatter plot with `plt.scatter(x , y)` where you pass in two series (one as x and the other as y), plotting histograms with the `series.hist()` method, or creating simple bar graphs as shown above."
   ]
  },
  {
   "cell_type": "code",
   "execution_count": 48,
   "metadata": {},
   "outputs": [
    {
     "data": {
      "text/plain": [
       "<matplotlib.collections.PathCollection at 0x11bea0ba8>"
      ]
     },
     "execution_count": 48,
     "metadata": {},
     "output_type": "execute_result"
    },
    {
     "data": {
      "image/png": "[encoded data removed]",
      "text/plain": [
       "<Figure size 432x288 with 1 Axes>"
      ]
     },
     "metadata": {
      "needs_background": "light"
     },
     "output_type": "display_data"
    }
   ],
   "source": [
    "plt.scatter(df.play_star_rating, df.star_rating)"
   ]
  },
  {
   "cell_type": "code",
   "execution_count": 49,
   "metadata": {},
   "outputs": [
    {
     "data": {
      "text/plain": [
       "<matplotlib.axes._subplots.AxesSubplot at 0x11c2090f0>"
      ]
     },
     "execution_count": 49,
     "metadata": {},
     "output_type": "execute_result"
    },
    {
     "data": {
      "image/png": "[encoded data removed]",
      "text/plain": [
       "<Figure size 432x288 with 1 Axes>"
      ]
     },
     "metadata": {
      "needs_background": "light"
     },
     "output_type": "display_data"
    }
   ],
   "source": [
    "df.play_star_rating.hist()"
   ]
  },
  {
   "cell_type": "code",
   "execution_count": 62,
   "metadata": {},
   "outputs": [
    {
     "data": {
      "text/plain": [
       "(10.0, 20.0]      2605\n",
       "(20.0, 30.0]      1917\n",
       "(30.0, 40.0]      1813\n",
       "(40.0, 50.0]      1080\n",
       "(60.0, 70.0]       671\n",
       "(50.0, 60.0]       613\n",
       "(-0.001, 10.0]     477\n",
       "(70.0, 80.0]       462\n",
       "(90.0, 100.0]      355\n",
       "(80.0, 90.0]       252\n",
       "Name: list_price, dtype: int64"
      ]
     },
     "execution_count": 62,
     "metadata": {},
     "output_type": "execute_result"
    },
    {
     "data": {
      "image/png": "[encoded data removed]",
      "text/plain": [
       "<Figure size 432x288 with 1 Axes>"
      ]
     },
     "metadata": {
      "needs_background": "light"
     },
     "output_type": "display_data"
    }
   ],
   "source": [
    "data = df.list_price.value_counts(bins = [0, 10, 20, 30, 40, 50, 60, 70, 80, 90, 100])#Your code here\n",
    "data.plot(kind='barh')\n",
    "data"
   ]
  },
  {
   "cell_type": "code",
   "execution_count": 57,
   "metadata": {},
   "outputs": [
    {
     "data": {
      "text/plain": [
       "Text(0, 0.5, 'df.num_reviews')"
      ]
     },
     "execution_count": 57,
     "metadata": {},
     "output_type": "execute_result"
    },
    {
     "data": {
      "image/png": "[encoded data removed]",
      "text/plain": [
       "<Figure size 432x288 with 1 Axes>"
      ]
     },
     "metadata": {
      "needs_background": "light"
     },
     "output_type": "display_data"
    }
   ],
   "source": [
    "\n",
    "plt.scatter(df.list_price, df.num_reviews)\n",
    "plt.xlabel('df.list_price')\n",
    "plt.ylabel('df.num_reviews')"
   ]
  },
  {
   "cell_type": "code",
   "execution_count": 60,
   "metadata": {},
   "outputs": [
    {
     "data": {
      "text/plain": [
       "36.5878"
      ]
     },
     "execution_count": 60,
     "metadata": {},
     "output_type": "execute_result"
    }
   ],
   "source": [
    "df.list_price.median()"
   ]
  },
  {
   "cell_type": "code",
   "execution_count": null,
   "metadata": {},
   "outputs": [],
   "source": []
  }
 ],
 "metadata": {
  "kernelspec": {
   "display_name": "Python 3",
   "language": "python",
   "name": "python3"
  },
  "language_info": {
   "codemirror_mode": {
    "name": "ipython",
    "version": 3
   },
   "file_extension": ".py",
   "mimetype": "text/x-python",
   "name": "python",
   "nbconvert_exporter": "python",
   "pygments_lexer": "ipython3",
   "version": "3.6.6"
  }
 },
 "nbformat": 4,
 "nbformat_minor": 2
}
